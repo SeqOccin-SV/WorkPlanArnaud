{
 "cells": [
  {
   "cell_type": "code",
   "execution_count": 2,
   "metadata": {},
   "outputs": [],
   "source": [
    "from pysam import VariantFile\n",
    "\n",
    "from collections import defaultdict, Counter\n",
    "import numpy as np\n",
    "import pandas as pd\n",
    "import seaborn as sns\n",
    "import matplotlib.pyplot as plt\n",
    "import matplotlib.ticker as ticker\n",
    "\n",
    "from matplotlib import pyplot as plt\n",
    "\n",
    "from upsetplot import UpSet, plot"
   ]
  },
  {
   "cell_type": "code",
   "execution_count": 13,
   "metadata": {},
   "outputs": [],
   "source": [
    "# Helper functions\n",
    "\n",
    "def sign(x):\n",
    "    return \"-\" if x<0 else \"\"\n",
    "\n",
    "\n",
    "def tolog100(x):\n",
    "    \"\"\"Sign aware conversion of size to have log100 behavior on the x axis\"\"\"\n",
    "    if x>0:\n",
    "        return np.log(x)/np.log(100)\n",
    "    else:\n",
    "        return - np.log(-x)/np.log(100)\n",
    "\n",
    "    \n",
    "def xaxis_format_func(value, tick_number):\n",
    "    \"\"\"The two args are the value and tick position\n",
    "        In order to show sizes in pb, kb and Mb\n",
    "    \"\"\"\n",
    "    if value == 0:\n",
    "        return \"0\"\n",
    "    elif np.abs(value) == 1:\n",
    "        return \"{0}100 bp\".format(sign(value))\n",
    "    elif np.abs(value) == 2:\n",
    "        return \"{0}10 kb\".format(sign(value))\n",
    "    elif np.abs(value) == 3:\n",
    "        return \"{0}1 Mb\".format(sign(value))\n",
    "     \n",
    "        \n",
    "def detected_by(idlist):\n",
    "    \"\"\"\n",
    "    Name of the tool/technology according to the jasmine IDlist info field\n",
    "    \"\"\"\n",
    "    tools = []\n",
    "    idlist_str=\"-\".join(idlist)\n",
    "    if \"svim.\" in idlist_str:\n",
    "        tools.append(\"ONT\")\n",
    "    if \"HiFi\" in idlist_str:\n",
    "        tools.append(\"HiFi\")\n",
    "    if \"CLR\" in idlist_str:\n",
    "        tools.append(\"CLR\")    \n",
    "    if 'Manta' in idlist_str:\n",
    "        tools.append(\"illumina\")\n",
    "    if \"svim_asm\" in idlist_str:\n",
    "        tools.append(\"assembly\")   \n",
    "    if \"svim_asm_dip\" in idlist_str:\n",
    "        tools.append(\"dipassembly\")\n",
    "    return tools\n",
    "\n",
    "\n",
    "# Helper function to read a vcf file\n",
    "\n",
    "def quality_at_least(rec, qual=0):\n",
    "    if qual == 0:\n",
    "        return True\n",
    "    if rec.qual is None:\n",
    "        return True\n",
    "    if rec.qual > qual:\n",
    "        return True\n",
    "    return False\n",
    "\n",
    "def re_at_least(rec, re_cutoff=0):\n",
    "    if \"RE\" not in rec.info:\n",
    "        return True\n",
    "    if rec.info[\"RE\"] > re_cutoff:\n",
    "        return True\n",
    "    return False\n",
    "\n",
    "def read_depth_at_most(rec, rd_cutoff=-1):\n",
    "    if rd_cutoff == -1 :\n",
    "        return True\n",
    "    maxrd = 0 \n",
    "    for s in rec.samples:\n",
    "        if \"RD\" in rec.samples[s]:\n",
    "            maxrd = max(maxrd, rec.samples[s]['DP'])\n",
    "    if maxrd <= rd_cutoff:\n",
    "        return True\n",
    "    return False\n",
    "\n",
    "def on_chrom(rec):\n",
    "    if \"NKL\" in rec.chrom:\n",
    "        return False\n",
    "    else:\n",
    "        return True\n",
    "\n",
    "def svlen(rec):\n",
    "    svtype= get_svtype(rec.info['SVTYPE'])\n",
    "    if svtype == \"INS\":            \n",
    "        if type(rec.info['SVLEN']) == tuple:\n",
    "            svlen = rec.info['SVLEN'][0]\n",
    "        else:\n",
    "            svlen = rec.info['SVLEN']\n",
    "    else:\n",
    "        svlen = rec.rlen\n",
    "    return svlen\n",
    "\n",
    "\n",
    "def get_svtype(svtype_info):\n",
    "    if \"INS\" in svtype_info or 'DUP' in svtype_info:\n",
    "        return svtype_info.split(\":\")[0]\n",
    "    else:\n",
    "        return svtype_info\n",
    "    \n",
    "    \n",
    "def range_svlen(rec, minlen, maxlen):\n",
    "    return (svlen(rec)>=minlen and svlen(rec)<=maxlen)\n",
    "    \n",
    "    \n",
    "def read_vcf(vcffile, qual=0, rd_cutoff=-1, re_cutoff=0,\n",
    "             variant=False, onlychrom=False, svtype=None,\n",
    "             minlen=-np.inf, maxlen=np.inf, svlenmin=0,\n",
    "             filter=False):\n",
    "    vcf_in = VariantFile(vcffile)\n",
    "    records = []\n",
    "    for rec in vcf_in:\n",
    "        if (quality_at_least(rec, qual) and \n",
    "            read_depth_at_most(rec, rd_cutoff) and\n",
    "            re_at_least(rec, re_cutoff) and\n",
    "            range_svlen(rec, minlen, maxlen) and\n",
    "            (np.abs(svlen(rec)) > svlenmin) and\n",
    "            (not variant or is_variant(rec)) and\n",
    "            (not onlychrom or on_chrom(rec)) and\n",
    "            (not filter or \"PASS\" in rec.filter) and\n",
    "            (svtype is None or rec.info['SVTYPE']==svtype)):\n",
    "            records.append(rec)\n",
    "    return records\n",
    "\n",
    "def sv_stats(variants):\n",
    "    \"Count the number of variants according to type\"\n",
    "    sv_counter = Counter()\n",
    "    for v in variants:\n",
    "        svtype = v.info['SVTYPE']\n",
    "        sv_counter[svtype] += 1\n",
    "    df = pd.DataFrame.from_dict(sv_counter, orient='index').reset_index()\n",
    "    df = df.rename(columns={'index':'svtype', 0:'count'})\n",
    "    return df\n",
    "\n",
    "\n",
    "def tool_concordance(vcf_records, tools, bionano_ids = []):\n",
    "    \"\"\"\n",
    "    Construct a upset-compliant pandas dataframe\n",
    "      boolean rows, one raow per variant, specifying of a \n",
    "      tool has detected this variant according to jasmine IDLIST\n",
    "    \"\"\"\n",
    "    status = []\n",
    "    for sv in vcf_records:\n",
    "        counter = list(map(lambda x: x in detected_by(sv.info['IDLIST']), tools))\n",
    "        counter.append(sv.id in bionano_ids)\n",
    "        if len(bionano_ids):\n",
    "            counter.append(sv.id)\n",
    "        if sum(counter):\n",
    "            status.append(counter)\n",
    "        \n",
    "    if len(bionano_ids):\n",
    "        all_tools = tools+[\"bionano\"]\n",
    "    else:\n",
    "        all_tools = tools\n",
    "    df = pd.DataFrame.from_records(status,columns=all_tools+[\"id\"])\n",
    "    df = df.set_index(all_tools)\n",
    "    return df"
   ]
  },
  {
   "cell_type": "code",
   "execution_count": 5,
   "metadata": {},
   "outputs": [
    {
     "data": {
      "text/html": [
       "<div>\n",
       "<style scoped>\n",
       "    .dataframe tbody tr th:only-of-type {\n",
       "        vertical-align: middle;\n",
       "    }\n",
       "\n",
       "    .dataframe tbody tr th {\n",
       "        vertical-align: top;\n",
       "    }\n",
       "\n",
       "    .dataframe thead th {\n",
       "        text-align: right;\n",
       "    }\n",
       "</style>\n",
       "<table border=\"1\" class=\"dataframe\">\n",
       "  <thead>\n",
       "    <tr style=\"text-align: right;\">\n",
       "      <th></th>\n",
       "      <th>svtype</th>\n",
       "      <th>count</th>\n",
       "    </tr>\n",
       "  </thead>\n",
       "  <tbody>\n",
       "    <tr>\n",
       "      <th>0</th>\n",
       "      <td>INS</td>\n",
       "      <td>9535</td>\n",
       "    </tr>\n",
       "    <tr>\n",
       "      <th>1</th>\n",
       "      <td>DEL</td>\n",
       "      <td>8481</td>\n",
       "    </tr>\n",
       "    <tr>\n",
       "      <th>2</th>\n",
       "      <td>DUP:INT</td>\n",
       "      <td>57</td>\n",
       "    </tr>\n",
       "    <tr>\n",
       "      <th>3</th>\n",
       "      <td>DUP:TANDEM</td>\n",
       "      <td>27</td>\n",
       "    </tr>\n",
       "    <tr>\n",
       "      <th>4</th>\n",
       "      <td>INV</td>\n",
       "      <td>10</td>\n",
       "    </tr>\n",
       "  </tbody>\n",
       "</table>\n",
       "</div>"
      ],
      "text/plain": [
       "       svtype  count\n",
       "0         INS   9535\n",
       "1         DEL   8481\n",
       "2     DUP:INT     57\n",
       "3  DUP:TANDEM     27\n",
       "4         INV     10"
      ]
     },
     "execution_count": 5,
     "metadata": {},
     "output_type": "execute_result"
    }
   ],
   "source": [
    "vcf_file=\"svim-asm-variants-diploid.vcf\"\n",
    "vcf_records =  read_vcf(vcf_file, onlychrom=True, filter=True, svlenmin=50)\n",
    "sv_stats(vcf_records)"
   ]
  },
  {
   "cell_type": "code",
   "execution_count": 16,
   "metadata": {},
   "outputs": [
    {
     "data": {
      "text/html": [
       "<div>\n",
       "<style scoped>\n",
       "    .dataframe tbody tr th:only-of-type {\n",
       "        vertical-align: middle;\n",
       "    }\n",
       "\n",
       "    .dataframe tbody tr th {\n",
       "        vertical-align: top;\n",
       "    }\n",
       "\n",
       "    .dataframe thead th {\n",
       "        text-align: right;\n",
       "    }\n",
       "</style>\n",
       "<table border=\"1\" class=\"dataframe\">\n",
       "  <thead>\n",
       "    <tr style=\"text-align: right;\">\n",
       "      <th></th>\n",
       "      <th>svtype</th>\n",
       "      <th>count</th>\n",
       "    </tr>\n",
       "  </thead>\n",
       "  <tbody>\n",
       "    <tr>\n",
       "      <th>0</th>\n",
       "      <td>DEL</td>\n",
       "      <td>14430</td>\n",
       "    </tr>\n",
       "    <tr>\n",
       "      <th>1</th>\n",
       "      <td>INS</td>\n",
       "      <td>15026</td>\n",
       "    </tr>\n",
       "  </tbody>\n",
       "</table>\n",
       "</div>"
      ],
      "text/plain": [
       "  svtype  count\n",
       "0    DEL  14430\n",
       "1    INS  15026"
      ]
     },
     "execution_count": 16,
     "metadata": {},
     "output_type": "execute_result"
    }
   ],
   "source": [
    "vcf_file=\"merged_DELINS.vcf.gz\"\n",
    "vcf_records =  read_vcf(vcf_file, onlychrom=True, filter=True, svlenmin=50)\n",
    "sv_stats(vcf_records)"
   ]
  },
  {
   "cell_type": "code",
   "execution_count": 14,
   "metadata": {},
   "outputs": [],
   "source": [
    "tools = ['HiFi', 'CLR', 'ONT', 'illumina', 'assembly']\n",
    "df = tool_concordance(vcf_records, tools)\n",
    "gb = df.groupby(level=list(range(df.index.nlevels)))\n",
    "agregated = gb.size()\n",
    "agregated.name = 'size'\n",
    "dfsel = df.loc[agregated[agregated>300].index]"
   ]
  },
  {
   "cell_type": "code",
   "execution_count": 15,
   "metadata": {},
   "outputs": [
    {
     "data": {
      "image/png": "[encoded data removed]",
      "text/plain": [
       "<Figure size 1107.38x550 with 4 Axes>"
      ]
     },
     "metadata": {
      "needs_background": "light"
     },
     "output_type": "display_data"
    }
   ],
   "source": [
    "upset = UpSet(dfsel,subset_size='count', sort_by=\"cardinality\", show_counts='%d',  show_percentages=True, element_size=50, totals_plot_elements=5)\n",
    "axes = upset.plot()\n",
    "#tmp = plt.title(\"Hi\", fontsize=20)"
   ]
  },
  {
   "cell_type": "code",
   "execution_count": null,
   "metadata": {},
   "outputs": [],
   "source": [
    "df"
   ]
  },
  {
   "cell_type": "code",
   "execution_count": null,
   "metadata": {},
   "outputs": [],
   "source": [
    "gb = df.groupby(level=list(range(df.index.nlevels)))"
   ]
  },
  {
   "cell_type": "code",
   "execution_count": null,
   "metadata": {},
   "outputs": [],
   "source": [
    "agregated = gb.size()\n",
    "agregated.name = 'size'"
   ]
  },
  {
   "cell_type": "code",
   "execution_count": null,
   "metadata": {},
   "outputs": [],
   "source": [
    "dfsel = df.loc[agregated[agregated>30].index]"
   ]
  },
  {
   "cell_type": "code",
   "execution_count": null,
   "metadata": {},
   "outputs": [],
   "source": [
    "svtype_records = defaultdict(list)\n",
    "for sv in vcf_records:\n",
    "    svtype_records[sv.info['SVTYPE']].append(sv)"
   ]
  },
  {
   "cell_type": "code",
   "execution_count": null,
   "metadata": {},
   "outputs": [],
   "source": [
    "df = tool_concordance(svtype_records['DEL'], tools)\n",
    "upset = UpSet(df,subset_size='count',sort_by=\"cardinality\", show_counts='%d',   show_percentages=True, element_size=50)\n",
    "axes = upset.plot()\n",
    "tmp = plt.title(\"Deletions\", fontsize=25)"
   ]
  },
  {
   "cell_type": "code",
   "execution_count": null,
   "metadata": {},
   "outputs": [],
   "source": [
    "df = tool_concordance(svtype_records['INS'], tools)\n",
    "upset = UpSet(df,subset_size='count',sort_by=\"cardinality\", show_counts='%d',   show_percentages=True, element_size=50)\n",
    "axes = upset.plot()\n",
    "tmp = plt.title(\"Insertions\", fontsize=25)"
   ]
  },
  {
   "cell_type": "code",
   "execution_count": null,
   "metadata": {},
   "outputs": [],
   "source": [
    "tools = ['CLR', 'illumina']\n",
    "df = tool_concordance(vcf_records, tools)\n",
    "upset = UpSet(df, subset_size='count', sort_by=\"cardinality\", show_counts='%d',  show_percentages=True, element_size=50, totals_plot_elements =3)\n",
    "axes = upset.plot()"
   ]
  },
  {
   "cell_type": "code",
   "execution_count": null,
   "metadata": {},
   "outputs": [],
   "source": [
    "svtype_records = defaultdict(list)\n",
    "for sv in vcf_records:\n",
    "    svtype_records[sv.info['SVTYPE']].append(sv)"
   ]
  },
  {
   "cell_type": "code",
   "execution_count": null,
   "metadata": {},
   "outputs": [],
   "source": [
    "df = tool_concordance(svtype_records['DEL'], tools)\n",
    "upset = UpSet(df,subset_size='count',sort_by=\"cardinality\", show_counts='%d',   show_percentages=True, element_size=50)\n",
    "axes = upset.plot()"
   ]
  },
  {
   "cell_type": "code",
   "execution_count": null,
   "metadata": {},
   "outputs": [],
   "source": [
    "df = tool_concordance(svtype_records['INS'], tools)\n",
    "upset = UpSet(df, subset_size='count', sort_by=\"cardinality\", show_counts='%d',  show_percentages=True, element_size=50)\n",
    "axes = upset.plot()"
   ]
  },
  {
   "cell_type": "code",
   "execution_count": null,
   "metadata": {},
   "outputs": [],
   "source": []
  },
  {
   "cell_type": "code",
   "execution_count": null,
   "metadata": {},
   "outputs": [],
   "source": [
    "tools = ['CLR', 'ONT']\n",
    "df = tool_concordance(vcf_records, tools)\n",
    "upset = UpSet(df, subset_size='count', sort_by=\"cardinality\", show_counts='%d',  show_percentages=True, element_size=50, totals_plot_elements =3)\n",
    "axes = upset.plot()"
   ]
  },
  {
   "cell_type": "code",
   "execution_count": null,
   "metadata": {},
   "outputs": [],
   "source": [
    "svtype_records = defaultdict(list)\n",
    "for sv in vcf_records:\n",
    "    svtype_records[sv.info['SVTYPE']].append(sv)"
   ]
  },
  {
   "cell_type": "code",
   "execution_count": null,
   "metadata": {},
   "outputs": [],
   "source": [
    "df = tool_concordance(svtype_records['DEL'], tools)\n",
    "upset = UpSet(df,subset_size='count',sort_by=\"cardinality\", show_counts='%d',   show_percentages=True, element_size=50)\n",
    "axes = upset.plot()"
   ]
  },
  {
   "cell_type": "code",
   "execution_count": null,
   "metadata": {},
   "outputs": [],
   "source": [
    "df = tool_concordance(svtype_records['INS'], tools)\n",
    "upset = UpSet(df, subset_size='count', sort_by=\"cardinality\", show_counts='%d',  show_percentages=True, element_size=50)\n",
    "axes = upset.plot()"
   ]
  },
  {
   "cell_type": "code",
   "execution_count": null,
   "metadata": {},
   "outputs": [],
   "source": [
    "vcf_records =  read_vcf(vcf_file, onlychrom=True, filter=True, svtype=\"INS\")\n",
    "sv_stats(vcf_records)"
   ]
  },
  {
   "cell_type": "code",
   "execution_count": null,
   "metadata": {},
   "outputs": [],
   "source": [
    "tools = ['CLR', 'ONT']\n",
    "df = tool_concordance(vcf_records, tools)\n",
    "upset = UpSet(df, subset_size='count', sort_by=\"cardinality\", show_counts='%d',  show_percentages=True, element_size=50, totals_plot_elements =3)\n",
    "axes = upset.plot()"
   ]
  },
  {
   "cell_type": "code",
   "execution_count": null,
   "metadata": {},
   "outputs": [],
   "source": [
    "vcf_records =  read_vcf(vcf_file, onlychrom=True, filter=True, svlenmin=50, svtype=\"INS\", maxlen=500)\n",
    "sv_stats(vcf_records)"
   ]
  },
  {
   "cell_type": "code",
   "execution_count": null,
   "metadata": {},
   "outputs": [],
   "source": [
    "tools = ['CLR', 'ONT']\n",
    "df = tool_concordance(vcf_records, tools)\n",
    "upset = UpSet(df, subset_size='count', sort_by=\"cardinality\", show_counts='%d',  show_percentages=True, element_size=50, totals_plot_elements =3)\n",
    "axes = upset.plot()"
   ]
  },
  {
   "cell_type": "code",
   "execution_count": null,
   "metadata": {},
   "outputs": [],
   "source": [
    "tools = ['CLR', 'illumina']"
   ]
  },
  {
   "cell_type": "code",
   "execution_count": null,
   "metadata": {},
   "outputs": [],
   "source": [
    "df = tool_concordance(vcf_records, tools)\n",
    "upset = UpSet(df, subset_size='count', sort_by=\"cardinality\", show_counts='%d',  show_percentages=True, element_size=50, totals_plot_elements =3)\n",
    "axes = upset.plot()"
   ]
  },
  {
   "cell_type": "code",
   "execution_count": null,
   "metadata": {},
   "outputs": [],
   "source": [
    "tools = ['CLR', 'ONT']\n",
    "df = tool_concordance(vcf_records, tools)\n",
    "upset = UpSet(df, subset_size='count', sort_by=\"cardinality\", show_counts='%d',  show_percentages=True, element_size=50, totals_plot_elements =3)\n",
    "axes = upset.plot()"
   ]
  },
  {
   "cell_type": "code",
   "execution_count": null,
   "metadata": {},
   "outputs": [],
   "source": []
  }
 ],
 "metadata": {
  "kernelspec": {
   "display_name": "Python 3 (ipykernel)",
   "language": "python",
   "name": "python3"
  },
  "language_info": {
   "codemirror_mode": {
    "name": "ipython",
    "version": 3
   },
   "file_extension": ".py",
   "mimetype": "text/x-python",
   "name": "python",
   "nbconvert_exporter": "python",
   "pygments_lexer": "ipython3",
   "version": "3.8.10"
  }
 },
 "nbformat": 4,
 "nbformat_minor": 2
}
